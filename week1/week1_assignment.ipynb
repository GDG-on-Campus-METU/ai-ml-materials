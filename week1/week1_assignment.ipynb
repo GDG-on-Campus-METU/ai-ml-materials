{
  "nbformat": 4,
  "nbformat_minor": 0,
  "metadata": {
    "colab": {
      "provenance": [],
      "authorship_tag": "ABX9TyPzWVRrU1P+kL+ETdVyOb2G",
      "include_colab_link": true
    },
    "kernelspec": {
      "name": "python3",
      "display_name": "Python 3"
    },
    "language_info": {
      "name": "python"
    }
  },
  "cells": [
    {
      "cell_type": "markdown",
      "metadata": {
        "id": "view-in-github",
        "colab_type": "text"
      },
      "source": [
        "<a href=\"https://colab.research.google.com/github/GDG-on-Campus-METU/ai-ml-materials/blob/main/week1/week1_assignment.ipynb\" target=\"_parent\"><img src=\"https://colab.research.google.com/assets/colab-badge.svg\" alt=\"Open In Colab\"/></a>"
      ]
    },
    {
      "cell_type": "markdown",
      "source": [
        "\n",
        "\n",
        "---\n",
        "\n",
        "\n",
        "# 00. About Assignment\n",
        "\n",
        "\n",
        "---\n",
        "\n"
      ],
      "metadata": {
        "id": "8MOJJZMdx5Za"
      }
    },
    {
      "cell_type": "markdown",
      "source": [
        "**There are 5 questions in this assignment**\n",
        "\n",
        "\n",
        "**To complete this assignment:**\n",
        "\n",
        "1.   Replace **all** `#TODO` comments with your answers.\n",
        "2.   Run **all** code blocks under \"01. Assignment\" section.\n",
        "3.   Run the code block under \"02. Complete the Assignment\" section.\n",
        "4.   Confirm that you completed this assignment without cheating by typing `\"I confirm\"`\n",
        "4.   A csv file named `w1_submission.csv ` will appear on files (you can reach files on the bar on the left) after you run the block.\n",
        "5. Download `w1_submission.csv`.\n",
        "5.   Send the file to your instructors via Google Classroom."
      ],
      "metadata": {
        "id": "DwC0_sdUyLln"
      }
    },
    {
      "cell_type": "markdown",
      "source": [
        "\n",
        "\n",
        "---\n",
        "\n",
        "\n",
        "# 01. Assignment\n",
        "\n",
        "\n",
        "---\n",
        "\n"
      ],
      "metadata": {
        "id": "w7aLtAMj6jOI"
      }
    },
    {
      "cell_type": "markdown",
      "source": [
        "## Q0 - Personal info"
      ],
      "metadata": {
        "id": "rW3uW56LAuxD"
      }
    },
    {
      "cell_type": "code",
      "source": [
        "from datetime import datetime\n",
        "\n",
        "now = datetime.now()\n",
        "datetimenow = now.strftime(\"%d/%m/%Y %H:%M:%S\")\n",
        "name = input(\"Enter your full name:  \")"
      ],
      "metadata": {
        "id": "z2AMLbaP9pTb"
      },
      "execution_count": null,
      "outputs": []
    },
    {
      "cell_type": "markdown",
      "source": [
        "## Q1 - Variable assignment and operators"
      ],
      "metadata": {
        "id": "rzW5BTvTCxkL"
      }
    },
    {
      "cell_type": "markdown",
      "source": [
        "**Assign:**\n",
        " 1.   `10` to variable named `a`\n",
        " 2.   `7` to variable named `b`\n",
        " 3.   sum of `a` and `b` to variable `c`\n",
        " 4.   square of `b` to variable `d`\n",
        " 5.   add `2` to `d` by using `+=` operator"
      ],
      "metadata": {
        "id": "vTd-SLttDhCF"
      }
    },
    {
      "cell_type": "code",
      "source": [
        "# Assign 10 to a\n",
        "# TODO\n",
        "\n",
        "# Assign 7 to b\n",
        "# TODO\n",
        "\n",
        "# Assign sum of a and b to c\n",
        "# TODO\n",
        "\n",
        "# Assign square of b to d\n",
        "# TODO\n",
        "\n",
        "# Add 2 to d by using += operator\n",
        "# TODO"
      ],
      "metadata": {
        "id": "RzVAOx37DcdF"
      },
      "execution_count": null,
      "outputs": []
    },
    {
      "cell_type": "code",
      "source": [
        "# THIS BLOCK IS FOR GRADING\n",
        "# DO NOT MODIFY THIS BLOCK\n",
        "\n",
        "q1_answer = [a, b, c, d]"
      ],
      "metadata": {
        "id": "ZUlbMpU5FcXv"
      },
      "execution_count": null,
      "outputs": []
    },
    {
      "cell_type": "markdown",
      "source": [
        "## Q2 - Conditionals"
      ],
      "metadata": {
        "id": "YvIJA-TXGQP0"
      }
    },
    {
      "cell_type": "markdown",
      "source": [
        "**Write an if-elif else statement that returns:**\n",
        "\n",
        "1.   if `my_age` is less than 18 => set `available` variable to `False`\n",
        "2.   if `my_age` is greater than or equal to 65 => set `available` variable to `False`\n",
        "3.   if none of the above is true => set `available` variable to `True`"
      ],
      "metadata": {
        "id": "33OHnwoXGhik"
      }
    },
    {
      "cell_type": "code",
      "source": [
        "def my_statement(my_age):\n",
        "\n",
        "  available = None\n",
        "\n",
        "  if #TODO:\n",
        "    #TODO\n",
        "  elif #TODO:\n",
        "    #TODO\n",
        "  else:\n",
        "    available = #TODO\n",
        "\n",
        "  return available"
      ],
      "metadata": {
        "id": "PvEqL79DHpvC"
      },
      "execution_count": null,
      "outputs": []
    },
    {
      "cell_type": "code",
      "source": [
        "# THIS BLOCK IS FOR GRADING\n",
        "# DO NOT MODIFY THIS BLOCK\n",
        "\n",
        "q2_answer = [my_statement(10), my_statement(18), my_statement(35), my_statement(65), my_statement(80)]"
      ],
      "metadata": {
        "id": "Q79yIyCeIXgt"
      },
      "execution_count": null,
      "outputs": []
    },
    {
      "cell_type": "markdown",
      "source": [
        "## Q3 - Lists"
      ],
      "metadata": {
        "id": "2hSyleo6JgCm"
      }
    },
    {
      "cell_type": "markdown",
      "source": [
        "1.   Add variable `var1` to end of `my_list`\n",
        "2.   Assign first item of `my_list` to variable `var2`\n",
        "3.   Remove string `\"delete me\"` from my_list by using `remove()`\n",
        "4.   Sort `my_list` and assign it to variable `sorted_list`\n",
        "5.   Assign length of `my_list` to variable `var3`\n"
      ],
      "metadata": {
        "id": "mrNKRjnnKymC"
      }
    },
    {
      "cell_type": "code",
      "source": [
        "my_list = [3, 75.55, 0.232, \"delete me\", -54]\n",
        "var1 = 10\n",
        "\n",
        "# Add variable var1 to end of my_list\n",
        "# TODO\n",
        "\n",
        "# Assign first item of my_list to variable var2\n",
        "var2 = #TODO\n",
        "\n",
        "# Remove string \"delete me\" from my_list by using remove()\n",
        "# TODO\n",
        "\n",
        "# Sort my_list and assign it to variable sorted_list\n",
        "sorted_list = #TODO\n",
        "\n",
        "# Assign length of my_list to variable var3\n",
        "var3 = #TODO"
      ],
      "metadata": {
        "id": "GzZ0MMguMdTJ"
      },
      "execution_count": null,
      "outputs": []
    },
    {
      "cell_type": "code",
      "source": [
        "# THIS BLOCK IS FOR GRADING\n",
        "# DO NOT MODIFY THIS BLOCK\n",
        "\n",
        "q3_answer = [var2, sorted_list, my_list, var3]"
      ],
      "metadata": {
        "id": "WZ7cuXmpNMTj"
      },
      "execution_count": null,
      "outputs": []
    },
    {
      "cell_type": "markdown",
      "source": [
        "## Q4 - Functions"
      ],
      "metadata": {
        "id": "0LEBwvtMJn9f"
      }
    },
    {
      "cell_type": "markdown",
      "source": [
        "Define a function named `my_func` that takes `in1` and `in2` as input and returns multiplication of `in1` and `in2`"
      ],
      "metadata": {
        "id": "GWEqZNxFNoWk"
      }
    },
    {
      "cell_type": "code",
      "source": [
        "#TODO"
      ],
      "metadata": {
        "id": "0hAJQjxDONr9"
      },
      "execution_count": null,
      "outputs": []
    },
    {
      "cell_type": "code",
      "source": [
        "# THIS BLOCK IS FOR GRADING\n",
        "# DO NOT MODIFY THIS BLOCK\n",
        "\n",
        "q4_answer = [my_func(in1=57, in2=432), my_func(in1=0, in2=374673)]"
      ],
      "metadata": {
        "id": "ZkICTagAOUTY"
      },
      "execution_count": null,
      "outputs": []
    },
    {
      "cell_type": "markdown",
      "source": [
        "## Q5 -Loops"
      ],
      "metadata": {
        "id": "o0byDTSgJuxw"
      }
    },
    {
      "cell_type": "markdown",
      "source": [
        "1.   Write a for loop that itaretes over `loop_list`.\n",
        "2.   Add the selected item to `sum` variable in each iteration.,\n",
        "\n",
        "(Your loop will calculate the sum of items in `loop_list`.)\n"
      ],
      "metadata": {
        "id": "mWZjSTE6UDtP"
      }
    },
    {
      "cell_type": "code",
      "source": [
        "def my_loop(loop_list):\n",
        "  sum = 0\n",
        "\n",
        "  #TODO\n",
        "\n",
        "  return sum"
      ],
      "metadata": {
        "id": "KtSvtrdUV5XM"
      },
      "execution_count": null,
      "outputs": []
    },
    {
      "cell_type": "code",
      "source": [
        "# THIS BLOCK IS FOR GRADING\n",
        "# DO NOT MODIFY THIS BLOCK\n",
        "list_1 = [1, 2, 3, 4, 5]\n",
        "list_2 = [0.83, 9.394, 8.4, -74]\n",
        "list_3 = [0, 0, 0, 0, 0]\n",
        "\n",
        "q5_answer = [my_loop(list_1), my_loop(list_2), my_loop(list_3)]"
      ],
      "metadata": {
        "id": "n--4MgYuWUkR"
      },
      "execution_count": null,
      "outputs": []
    },
    {
      "cell_type": "markdown",
      "source": [
        "\n",
        "\n",
        "---\n",
        "\n",
        "\n",
        "# 02. Complete the Assignment\n",
        "\n",
        "\n",
        "---\n",
        "\n"
      ],
      "metadata": {
        "id": "F1uHYwyo6pfJ"
      }
    },
    {
      "cell_type": "code",
      "source": [
        "import pandas as pd\n",
        "\n",
        "answers = [q1_answer, q2_answer, q3_answer, q4_answer, q5_answer]\n",
        "\n",
        "print(\"I confirm that I did all the homework in this assignment by myself.\\nI understand that if I am found to have cheated, I will forfeit my right to receive a certificate.\")\n",
        "confirmation = input(\"If you confirm the statement given above, type 'I confirm' to submit: \")\n",
        "data = {\n",
        "    \"name\": [\"name\", \"datetime\", \"confirmation\", \"answers\"],\n",
        "    \"data\": [name, datetimenow, confirmation, answers]\n",
        "}\n",
        "answers_df = pd.DataFrame(data)\n",
        "answers_df.set_index(\"name\", inplace=True)\n",
        "answers_df.to_csv(\"w1_submission.csv\", index=True)"
      ],
      "metadata": {
        "id": "iLGARGr37Pww"
      },
      "execution_count": null,
      "outputs": []
    }
  ]
}