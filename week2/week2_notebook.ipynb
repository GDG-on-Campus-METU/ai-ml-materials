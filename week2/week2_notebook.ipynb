{
  "nbformat": 4,
  "nbformat_minor": 0,
  "metadata": {
    "colab": {
      "provenance": [],
      "include_colab_link": true
    },
    "kernelspec": {
      "name": "python3",
      "display_name": "Python 3"
    },
    "language_info": {
      "name": "python"
    }
  },
  "cells": [
    {
      "cell_type": "markdown",
      "metadata": {
        "id": "view-in-github",
        "colab_type": "text"
      },
      "source": [
        "<a href=\"https://colab.research.google.com/github/GDG-on-Campus-METU/ai-ml-materials/blob/main/week2/week2_notebook.ipynb\" target=\"_parent\"><img src=\"https://colab.research.google.com/assets/colab-badge.svg\" alt=\"Open In Colab\"/></a>"
      ]
    },
    {
      "cell_type": "markdown",
      "source": [
        "\n",
        "\n",
        "---\n",
        "\n",
        "\n",
        "# 00. About week2\n",
        "\n",
        "\n",
        "---\n",
        "\n"
      ],
      "metadata": {
        "id": "qYBCwmNH4lER"
      }
    },
    {
      "cell_type": "markdown",
      "source": [
        "1.   Numpy basics\n",
        "2.   Pandas basics\n",
        "3.   Matplotlib basics\n",
        "4.   TensorFlow basics"
      ],
      "metadata": {
        "id": "rA_aCDg542u3"
      }
    },
    {
      "cell_type": "markdown",
      "source": [
        "\n",
        "\n",
        "---\n",
        "\n",
        "\n",
        "# 01. Numpy basics\n",
        "\n",
        "\n",
        "---\n",
        "\n"
      ],
      "metadata": {
        "id": "BD-Ek3hv5K_P"
      }
    },
    {
      "cell_type": "markdown",
      "source": [
        "## Why Numpy?"
      ],
      "metadata": {
        "id": "nkBrKZsr8d9U"
      }
    },
    {
      "cell_type": "code",
      "source": [
        "import numpy as np"
      ],
      "metadata": {
        "id": "JTw-paNK-n3n"
      },
      "execution_count": null,
      "outputs": []
    },
    {
      "cell_type": "markdown",
      "source": [
        "*   **Efficiency:** Numpy arrays are based on C implementations, making them much faster than standard Python lists for numerical operations, especially when dealing with large datasets.\n",
        "*   **Convenience:** Numpy provides a wide range of functions for array manipulation, linear algebra, Fourier transforms, random number generation, and more. This simplifies common mathematical and scientific tasks.\n",
        "*   **Foundation for other libraries:** Many data science and machine learning libraries in Python, like pandas, Matplotlib, and scikit-learn, are built upon Numpy."
      ],
      "metadata": {
        "id": "zQkJnEh79w7G"
      }
    },
    {
      "cell_type": "markdown",
      "source": [
        "## Creating Arrays"
      ],
      "metadata": {
        "id": "QFLUfxB78k0H"
      }
    },
    {
      "cell_type": "markdown",
      "source": [
        "**1. From Python lists and tuples**"
      ],
      "metadata": {
        "id": "uC2iD4SY-YQF"
      }
    },
    {
      "cell_type": "code",
      "source": [
        "my_list = [1, 2, 3, 4, 5]\n",
        "my_array = np.array(my_list)\n",
        "print(my_array)\n",
        "print(type(my_array))"
      ],
      "metadata": {
        "id": "MyFdlSgP-9vK"
      },
      "execution_count": null,
      "outputs": []
    },
    {
      "cell_type": "code",
      "source": [
        "my_tuple = (1, 2, 3, 4, 5)\n",
        "my_array = np.array(my_tuple)\n",
        "print(my_array)\n",
        "print(type(my_array))"
      ],
      "metadata": {
        "id": "EPt5X8LD_FlY"
      },
      "execution_count": null,
      "outputs": []
    },
    {
      "cell_type": "markdown",
      "source": [
        "**2. Using built-in functions**"
      ],
      "metadata": {
        "id": "M_LAitgY_QGk"
      }
    },
    {
      "cell_type": "code",
      "source": [
        "my_array = np.zeros(5)\n",
        "print(my_array)"
      ],
      "metadata": {
        "id": "67dnKEea_4n6"
      },
      "execution_count": null,
      "outputs": []
    },
    {
      "cell_type": "code",
      "source": [
        "my_array = np.ones(5)\n",
        "print(my_array)"
      ],
      "metadata": {
        "id": "Pd-hOJHk__FZ"
      },
      "execution_count": null,
      "outputs": []
    },
    {
      "cell_type": "code",
      "source": [
        "my_array = np.eye(5)\n",
        "print(my_array)"
      ],
      "metadata": {
        "id": "VJbK-2cOBYUK"
      },
      "execution_count": null,
      "outputs": []
    },
    {
      "cell_type": "code",
      "source": [
        "my_array = np.arange(1, 10, 2)\n",
        "print(my_array)"
      ],
      "metadata": {
        "id": "8g4K_3QUAC4H"
      },
      "execution_count": null,
      "outputs": []
    },
    {
      "cell_type": "code",
      "source": [
        "my_array = np.linspace(0, 1, 5)\n",
        "print(my_array)"
      ],
      "metadata": {
        "id": "YZMGNSHABM6i"
      },
      "execution_count": null,
      "outputs": []
    },
    {
      "cell_type": "markdown",
      "source": [
        "**3. Using  random number generation**"
      ],
      "metadata": {
        "id": "a_Mnqae8Bjqs"
      }
    },
    {
      "cell_type": "code",
      "source": [
        "my_array = np.random.rand(5)\n",
        "print(my_array)"
      ],
      "metadata": {
        "id": "H1MNN18UBQIC"
      },
      "execution_count": null,
      "outputs": []
    },
    {
      "cell_type": "code",
      "source": [
        "my_array = np.random.randint(1, 10, 5)\n",
        "print(my_array)"
      ],
      "metadata": {
        "id": "W8i_K7vYBTDT"
      },
      "execution_count": null,
      "outputs": []
    },
    {
      "cell_type": "markdown",
      "source": [
        "## Array attributes"
      ],
      "metadata": {
        "id": "MhuomMsg8nBt"
      }
    },
    {
      "cell_type": "markdown",
      "source": [
        "*   **Shape:** Understanding the shape of your array `(rows, columns)` is crucial for operations and reshaping.\n",
        "*   **Number of dimensions:** Knowing whether you're working with a 1D, 2D, or higher-dimensional array is important for selecting appropriate functions.\n",
        "*   **Size:** The total number of elements helps you understand the scale of your data.\n",
        "*   **Data type:** Ensuring your array elements have the correct data type is essential for accurate calculations."
      ],
      "metadata": {
        "id": "Si_G3nsUUvu4"
      }
    },
    {
      "cell_type": "code",
      "source": [
        "# Scalar\n",
        "arr = np.array(1)\n",
        "print(arr.shape)\n",
        "print(arr.ndim)\n",
        "print(arr.size)\n",
        "print(arr.dtype)\n",
        "print(type(arr))"
      ],
      "metadata": {
        "id": "yqc_MXcnVbeU"
      },
      "execution_count": null,
      "outputs": []
    },
    {
      "cell_type": "code",
      "source": [
        "# Vector\n",
        "arr = np.array([1, 2, 3, 4, 5, 6])\n",
        "print(arr.shape)\n",
        "print(arr.ndim)\n",
        "print(arr.size)\n",
        "print(arr.dtype)\n",
        "print(type(arr))"
      ],
      "metadata": {
        "id": "_N1wkRAEVO5a"
      },
      "execution_count": null,
      "outputs": []
    },
    {
      "cell_type": "code",
      "source": [
        "# Matrix\n",
        "arr = np.array([[1, 2, 3],\n",
        "                [4, 5, 6]])\n",
        "print(arr.shape)\n",
        "print(arr.ndim)\n",
        "print(arr.size)\n",
        "print(arr.dtype)\n",
        "print(type(arr))"
      ],
      "metadata": {
        "id": "NCfEkOfRVJSc"
      },
      "execution_count": null,
      "outputs": []
    },
    {
      "cell_type": "code",
      "source": [
        "# Tensor\n",
        "arr = np.array([[[1, 2, 3], [4, 5, 6]],\n",
        "                [[7, 8, 9], [10, 11, 12]]])\n",
        "print(arr.shape)\n",
        "print(arr.ndim)\n",
        "print(arr.size)\n",
        "print(arr.dtype)\n",
        "print(type(arr))"
      ],
      "metadata": {
        "id": "h96_jFT5VshJ"
      },
      "execution_count": null,
      "outputs": []
    },
    {
      "cell_type": "markdown",
      "source": [
        "## Array reshaping"
      ],
      "metadata": {
        "id": "U-LzLh2y9aFe"
      }
    },
    {
      "cell_type": "markdown",
      "source": [
        "`reshape()` **function:**\n",
        "\n",
        "*   The new shape must be compatible with the number of elements in the original array\n",
        "\n",
        "*   You can use -1 as a placeholder for one dimension, letting Numpy automatically calculate its size based on the other dimensions."
      ],
      "metadata": {
        "id": "gB3SPyC_W1Hv"
      }
    },
    {
      "cell_type": "code",
      "source": [
        "arr = np.array([1, 2, 3, 4, 5, 6])\n",
        "new_arr = arr.reshape(2, 3)\n",
        "print(new_arr)"
      ],
      "metadata": {
        "id": "PDDVb3TcXMWd"
      },
      "execution_count": null,
      "outputs": []
    },
    {
      "cell_type": "code",
      "source": [
        "arr = np.array([1, 2, 3, 4, 5, 6])\n",
        "new_arr = arr.reshape(-1, 3)\n",
        "print(new_arr)"
      ],
      "metadata": {
        "id": "20dyqFF3XSWi"
      },
      "execution_count": null,
      "outputs": []
    },
    {
      "cell_type": "markdown",
      "source": [
        "## Array indexing and slicing"
      ],
      "metadata": {
        "id": "MviqyDDO8s3p"
      }
    },
    {
      "cell_type": "markdown",
      "source": [
        "**Indexing:**\n",
        "\n",
        "Access elements using their index (starting from 0)"
      ],
      "metadata": {
        "id": "Hl7izGhUXg4t"
      }
    },
    {
      "cell_type": "code",
      "source": [
        "arr = np.array([1, 2, 3, 4, 5])\n",
        "print(arr.shape)\n",
        "print(arr[0])"
      ],
      "metadata": {
        "id": "UvhDi7N4YMXR"
      },
      "execution_count": null,
      "outputs": []
    },
    {
      "cell_type": "code",
      "source": [
        "arr = np.array([[1, 2, 3],\n",
        "                [4, 5, 6]])\n",
        "print(arr.shape)\n",
        "print(arr[1, 2])"
      ],
      "metadata": {
        "id": "a0SvTZq5YOpQ"
      },
      "execution_count": null,
      "outputs": []
    },
    {
      "cell_type": "markdown",
      "source": [
        "**Slicing:**"
      ],
      "metadata": {
        "id": "diXWaCi5OKbS"
      }
    },
    {
      "cell_type": "code",
      "source": [
        "arr = np.array([[1, 2, 3], [4, 5, 6]])\n",
        "print(arr[0, 1])    # Element at row 0, column 1\n",
        "print(arr[:, 1])    # All rows, column 1\n",
        "print(arr[1, :2])   # Row 1, columns up to index 1 (exclusive)"
      ],
      "metadata": {
        "id": "tY0tO-5ZOdFp"
      },
      "execution_count": null,
      "outputs": []
    },
    {
      "cell_type": "markdown",
      "source": [
        "## Array operations"
      ],
      "metadata": {
        "id": "biLJdSlh81Qd"
      }
    },
    {
      "cell_type": "markdown",
      "source": [
        "**Arithmetic operations:**\n",
        "\n",
        "Basic arithmetic operators (+,-,*,/) work element-wise on arrays"
      ],
      "metadata": {
        "id": "BiFRmlB0YmGz"
      }
    },
    {
      "cell_type": "code",
      "source": [
        "arr1 = np.array([1, 2, 3])\n",
        "arr2 = np.array([4, 5, 6])\n",
        "result = arr1 + arr2\n",
        "print(result)"
      ],
      "metadata": {
        "id": "-VWmlqhiY3Ky"
      },
      "execution_count": null,
      "outputs": []
    },
    {
      "cell_type": "markdown",
      "source": [
        "**Universal functions (ufuncs):**\n",
        "\n",
        "Numpy provides a wide range of mathematical functions that operate element-wise on arrays"
      ],
      "metadata": {
        "id": "RhuqTz4GY5x5"
      }
    },
    {
      "cell_type": "code",
      "source": [
        "arr = np.array([1, 4, 9])\n",
        "print(np.sqrt(arr))\n",
        "print(np.exp(arr))\n",
        "print(np.sin(arr))\n",
        "print(np.cos(arr))\n",
        "print(np.log(arr))"
      ],
      "metadata": {
        "id": "kJQmwJ2XZDPO"
      },
      "execution_count": null,
      "outputs": []
    },
    {
      "cell_type": "markdown",
      "source": [
        "**Matrix operations:**\n",
        "\n",
        "For matrix multiplication, use the `@` operator or the `dot()` function\n",
        "\n",
        ">   https://www.mathsisfun.com/algebra/matrix-multiplying.html"
      ],
      "metadata": {
        "id": "5ZASaVj7Zt5L"
      }
    },
    {
      "cell_type": "code",
      "source": [
        "matrix1 = np.array([[1, 2],\n",
        "                    [3, 4]])\n",
        "\n",
        "matrix2 = np.array([[5, 6],\n",
        "                    [7, 8]])\n",
        "\n",
        "result = matrix1 @ matrix2\n",
        "print(result)"
      ],
      "metadata": {
        "id": "dtSD5Ez6aCJ9"
      },
      "execution_count": null,
      "outputs": []
    },
    {
      "cell_type": "markdown",
      "source": [
        "## Common numpy functions"
      ],
      "metadata": {
        "id": "hC9rnHda87ZE"
      }
    },
    {
      "cell_type": "markdown",
      "source": [
        "**Array manipulation:**\n",
        "\n",
        "*   `np.reshape()`: Changes the shape of an array without changing its data.\n",
        "*   `np.transpose()`: Transposes an array, swapping rows and columns.\n",
        "*   `np.concatenate()`: Joins arrays along a specified axis.\n",
        "*    `np.split()`: Splits an array into multiple sub-arrays."
      ],
      "metadata": {
        "id": "rtish48UbKnX"
      }
    },
    {
      "cell_type": "code",
      "source": [
        "arr = np.array([[1, 2, 3],\n",
        "                [4, 5, 6]])\n",
        "\n",
        "print(np.transpose(arr))\n",
        "print(np.concatenate((arr, arr), axis=1))\n",
        "print(np.split(arr, 2, axis=0))"
      ],
      "metadata": {
        "id": "Q5BU2tJ3behn"
      },
      "execution_count": null,
      "outputs": []
    },
    {
      "cell_type": "markdown",
      "source": [
        "**Mathematical functions:**\n",
        "\n",
        "*   `np.sum()`: Calculates the sum of array elements.\n",
        "*   `np.mean()`: Calculates the mean of array elements.\n",
        "*   `np.std()`: Calculates the standard deviation of array elements.\n",
        "*   `np.min()`: Finds the minimum value in an array.\n",
        "*   `np.max()`: Finds the maximum value in an array."
      ],
      "metadata": {
        "id": "eGKSxC3rcGFG"
      }
    },
    {
      "cell_type": "code",
      "source": [
        "arr = np.array([1, 2, 3, 4, 5])\n",
        "\n",
        "print(np.sum(arr))\n",
        "print(np.mean(arr))\n",
        "print(np.std(arr))\n",
        "print(np.min(arr))\n",
        "print(np.max(arr))"
      ],
      "metadata": {
        "id": "C5VhVf7jcWyr"
      },
      "execution_count": null,
      "outputs": []
    },
    {
      "cell_type": "markdown",
      "source": [
        "## Linear algebra operations"
      ],
      "metadata": {
        "id": "0DPY5lM793Eq"
      }
    },
    {
      "cell_type": "markdown",
      "source": [
        "Numpy provides powerful tools for performing linear algebra operations, which are fundamental in many scientific and engineering applications, as well as machine learning. Here are some key operations:\n",
        "\n",
        "**Matrix and Vector Products:**\n",
        "\n",
        "`np.dot(a, b)` or `a @ b`: Computes the dot product of two arrays a and b. For 2D arrays, this performs matrix multiplication.\n",
        "\n",
        "`np.inner(a, b)`: Calculates the inner product of two arrays.\n",
        "\n",
        "`np.outer(a, b)`: Computes the outer product of two arrays.\n",
        "\n",
        "**Matrix Decomposition:**\n",
        "\n",
        "`np.linalg.svd(a)`: Performs Singular Value Decomposition (SVD) on a matrix a, decomposing it into three matrices. Useful for dimensionality reduction and recommendation systems.\n",
        "\n",
        "`np.linalg.qr(a)`: Computes the QR decomposition of a matrix a, expressing it as a product of an orthogonal matrix and an upper triangular matrix. Used in solving linear equations and least-squares problems.\n",
        "\n",
        "`np.linalg.cholesky(a)`: Computes the Cholesky decomposition of a Hermitian, positive-definite matrix a. Useful in solving linear equations and generating correlated random variables.\n",
        "\n",
        "**Eigenvalues and Eigenvectors:**\n",
        "\n",
        "`np.linalg.eig(a)`: Computes the eigenvalues and eigenvectors of a square matrix a. Used in stability analysis, principal component analysis (PCA), and other applications.\n",
        "\n",
        "`np.linalg.eigh(a)`: Computes eigenvalues and eigenvectors for a Hermitian or symmetric matrix a.\n",
        "\n",
        "**Solving Linear Equations:**\n",
        "\n",
        "`np.linalg.solve(a, b)`: Solves the linear equation system ax = b for x, where a is a square matrix and b is a vector or matrix.\n",
        "\n",
        "**Matrix Norms and Determinants:**\n",
        "\n",
        "`np.linalg.norm(a)`: Calculates the norm of a matrix or vector a.\n",
        "\n",
        "`np.linalg.det(a)`: Computes the determinant of a square matrix a."
      ],
      "metadata": {
        "id": "RoAnJKSUcm-v"
      }
    },
    {
      "cell_type": "markdown",
      "source": [
        "\n",
        "\n",
        "---\n",
        "\n",
        "\n",
        "# 02. Pandas basics\n",
        "\n",
        "\n",
        "---\n",
        "\n"
      ],
      "metadata": {
        "id": "C0OkvcTn5UHR"
      }
    },
    {
      "cell_type": "markdown",
      "source": [
        "## Why Pandas?"
      ],
      "metadata": {
        "id": "WcZeq-m4-jbE"
      }
    },
    {
      "cell_type": "code",
      "source": [
        "import pandas as pd"
      ],
      "metadata": {
        "id": "2qc3-3zSKWWK"
      },
      "execution_count": null,
      "outputs": []
    },
    {
      "cell_type": "markdown",
      "source": [
        "*   **Data Preparation:** Loading, cleaning, and transforming data into a suitable format for deep learning models.\n",
        "*   **Feature Engineering:** Creating new features and handling categorical data to improve model performance.\n",
        "*   **Integration:** Easily converting Pandas DataFrames to NumPy arrays for use in deep learning libraries.\n",
        "*   **Analysis:** Exploring data, preprocessing inputs, postprocessing predictions, and analyzing model results."
      ],
      "metadata": {
        "id": "2ZQF0GrsKN7k"
      }
    },
    {
      "cell_type": "markdown",
      "source": [
        "## Creating DataFrames"
      ],
      "metadata": {
        "id": "ko5fJscD-quJ"
      }
    },
    {
      "cell_type": "markdown",
      "source": [
        "**From a dictionary of lists:**"
      ],
      "metadata": {
        "id": "w5GTG6t4LTa0"
      }
    },
    {
      "cell_type": "code",
      "source": [
        "data = {'Name': ['Alice', 'Bob', 'Charlie'],\n",
        "        'Age': [25, 30, 35],\n",
        "        'City': ['New York', 'San Francisco', 'Los Angeles']}\n",
        "df = pd.DataFrame(data)\n",
        "print(df)"
      ],
      "metadata": {
        "id": "bkdx-8fOLa8e"
      },
      "execution_count": null,
      "outputs": []
    },
    {
      "cell_type": "markdown",
      "source": [
        "**From a list of dictionaries:**"
      ],
      "metadata": {
        "id": "xQ6feIGjLp7p"
      }
    },
    {
      "cell_type": "code",
      "source": [
        "data = [{'Name': 'Alice', 'Age': 25, 'City': 'New York'},\n",
        "        {'Name': 'Bob', 'Age': 30, 'City': 'San Francisco'},\n",
        "        {'Name': 'Charlie', 'Age': 35, 'City': 'Los Angeles'}]\n",
        "df = pd.DataFrame(data)\n",
        "print(df)"
      ],
      "metadata": {
        "id": "AiWZap2ULzzQ"
      },
      "execution_count": null,
      "outputs": []
    },
    {
      "cell_type": "markdown",
      "source": [
        "**From a NumPy array:**"
      ],
      "metadata": {
        "id": "XU2pmtb6L9H3"
      }
    },
    {
      "cell_type": "code",
      "source": [
        "data = np.array([[\"Alice\", 25, \"New York\"],\n",
        "                 [\"Bob\", 30, \"San Francisco\"],\n",
        "                 [\"Charlie\", 35, \"Los Angeles\"]])\n",
        "df = pd.DataFrame(data, columns=['Name', 'Age', 'City'])\n",
        "print(df)"
      ],
      "metadata": {
        "id": "hlFbWWz8MAiM"
      },
      "execution_count": null,
      "outputs": []
    },
    {
      "cell_type": "markdown",
      "source": [
        "**From a CSV file:**"
      ],
      "metadata": {
        "id": "gAlBxh0kMl-E"
      }
    },
    {
      "cell_type": "code",
      "source": [
        "df = pd.read_csv('data.csv')\n",
        "print(df)"
      ],
      "metadata": {
        "id": "SyoU47rfMsGp"
      },
      "execution_count": null,
      "outputs": []
    },
    {
      "cell_type": "markdown",
      "source": [
        "**From a Excel file:**"
      ],
      "metadata": {
        "id": "6CPp29LQNRl3"
      }
    },
    {
      "cell_type": "code",
      "source": [
        "df = pd.read_excel('data.xlsx')\n",
        "print(df)"
      ],
      "metadata": {
        "id": "zsqjfhYONrjX"
      },
      "execution_count": null,
      "outputs": []
    },
    {
      "cell_type": "markdown",
      "source": [
        "**From a JSON file:**"
      ],
      "metadata": {
        "id": "F_eAa6JSNt5P"
      }
    },
    {
      "cell_type": "code",
      "source": [
        "df = pd.read_json('data.json')\n",
        "print(df)"
      ],
      "metadata": {
        "id": "HgJ3hzRpNzGa"
      },
      "execution_count": null,
      "outputs": []
    },
    {
      "cell_type": "markdown",
      "source": [
        "## Data selection"
      ],
      "metadata": {
        "id": "pHuITBSI-ynZ"
      }
    },
    {
      "cell_type": "markdown",
      "source": [
        "**By column name:**"
      ],
      "metadata": {
        "id": "9-TGmVOwPDL6"
      }
    },
    {
      "cell_type": "code",
      "source": [
        "df = pd.DataFrame({'A': [1, 2, 3], 'B': [4, 5, 6]})\n",
        "print(df[['A']])\n",
        "print(df[['A', 'B']])"
      ],
      "metadata": {
        "id": "jXYdQ26uPGre"
      },
      "execution_count": null,
      "outputs": []
    },
    {
      "cell_type": "markdown",
      "source": [
        "**By row index:**"
      ],
      "metadata": {
        "id": "IqMXDrbqPSOI"
      }
    },
    {
      "cell_type": "code",
      "source": [
        "df = pd.DataFrame({'A': [1, 2, 3], 'B': [4, 5, 6]})\n",
        "print(df.loc[0])\n",
        "print(df.loc[1:2])"
      ],
      "metadata": {
        "id": "4uQrdS9dPVs0"
      },
      "execution_count": null,
      "outputs": []
    },
    {
      "cell_type": "markdown",
      "source": [
        "**By row position:**"
      ],
      "metadata": {
        "id": "FrEvKuMJPk_9"
      }
    },
    {
      "cell_type": "code",
      "source": [
        "df = pd.DataFrame({'A': [1, 2, 3], 'B': [4, 5, 6]})\n",
        "print(df.iloc[0])\n",
        "print(df.iloc[1:2])\n"
      ],
      "metadata": {
        "id": "6a8N-hhePp3J"
      },
      "execution_count": null,
      "outputs": []
    },
    {
      "cell_type": "markdown",
      "source": [
        "## Data manipulation"
      ],
      "metadata": {
        "id": "-c2ZbUHhO66E"
      }
    },
    {
      "cell_type": "markdown",
      "source": [
        "**Adding columns:**"
      ],
      "metadata": {
        "id": "USK7g1E3Qv8L"
      }
    },
    {
      "cell_type": "code",
      "source": [
        "df = pd.DataFrame({'A': [1, 2, 3], 'B': [4, 5, 6]})\n",
        "df['C'] = [7, 8, 9]\n",
        "print(df)"
      ],
      "metadata": {
        "id": "YsskVYDoRILO"
      },
      "execution_count": null,
      "outputs": []
    },
    {
      "cell_type": "markdown",
      "source": [
        "**Removing Columns:**"
      ],
      "metadata": {
        "id": "qeZBYNBtQybs"
      }
    },
    {
      "cell_type": "code",
      "source": [
        "df = pd.DataFrame({'A': [1, 2, 3], 'B': [4, 5, 6]})\n",
        "df = df.drop('B', axis=1)\n",
        "print(df)"
      ],
      "metadata": {
        "id": "J0-TZf39RNa1"
      },
      "execution_count": null,
      "outputs": []
    },
    {
      "cell_type": "markdown",
      "source": [
        "**Renaming Columns:**"
      ],
      "metadata": {
        "id": "cdJ5MxQIQ3W2"
      }
    },
    {
      "cell_type": "code",
      "source": [
        "df = pd.DataFrame({'A': [1, 2, 3], 'B': [4, 5, 6]})\n",
        "df = df.rename(columns={'A': 'Column_A', 'B': 'Column_B'})\n",
        "print(df)"
      ],
      "metadata": {
        "id": "DsmqTfDwRcX2"
      },
      "execution_count": null,
      "outputs": []
    },
    {
      "cell_type": "markdown",
      "source": [
        "**Sorting Data:**"
      ],
      "metadata": {
        "id": "qEKztIUqQ7vF"
      }
    },
    {
      "cell_type": "code",
      "source": [
        "df = pd.DataFrame({'A': [3, 1, 2], 'B': [6, 4, 5]})\n",
        "df = df.sort_values(by='A')\n",
        "print(df)"
      ],
      "metadata": {
        "id": "b2Ry41iAReec"
      },
      "execution_count": null,
      "outputs": []
    },
    {
      "cell_type": "markdown",
      "source": [
        "**Applying Functions:**"
      ],
      "metadata": {
        "id": "5amOyYVJQ-wM"
      }
    },
    {
      "cell_type": "code",
      "source": [
        "df = pd.DataFrame({'A': [1, 2, 3], 'B': [4, 5, 6]})\n",
        "df['C'] = df['A'].apply(lambda x: x**2)\n",
        "print(df)"
      ],
      "metadata": {
        "id": "0s4A5w0XRgq3"
      },
      "execution_count": null,
      "outputs": []
    },
    {
      "cell_type": "markdown",
      "source": [
        "**Grouping Data:**"
      ],
      "metadata": {
        "id": "LowjkMHyRCMt"
      }
    },
    {
      "cell_type": "code",
      "source": [
        "df = pd.DataFrame({'A': ['X', 'X', 'Y', 'Y', 'Z', 'Z'],\n",
        "                   'B': [1, 2, 3, 4, 5, 6]})\n",
        "df_grouped = df.groupby('A').mean() # or other functions like sum()\n",
        "print(df_grouped)"
      ],
      "metadata": {
        "id": "ItLidLzGRnsz"
      },
      "execution_count": null,
      "outputs": []
    },
    {
      "cell_type": "markdown",
      "source": [
        "## inplace"
      ],
      "metadata": {
        "id": "cxQ2WRT2SUH4"
      }
    },
    {
      "cell_type": "markdown",
      "source": [
        "In Pandas, the `inplace` parameter is used in many functions to determine whether the operation modifies the original DataFrame directly or returns a modified copy."
      ],
      "metadata": {
        "id": "oK6a_SbUSs5H"
      }
    },
    {
      "cell_type": "markdown",
      "source": [
        "`inplace=False` **(Default):**\n",
        "\n",
        "*   The operation creates a new DataFrame with the modifications and leaves the original DataFrame unchanged.\n",
        "*   This is generally safer as it avoids unintentional changes to your original data."
      ],
      "metadata": {
        "id": "bQfDrlm7Sx6A"
      }
    },
    {
      "cell_type": "code",
      "source": [
        "df = pd.DataFrame({'A': [1, 2, 3], 'B': [4, 5, 6]})\n",
        "df_new = df.drop('B', axis=1, inplace=False)\n",
        "print(df_new)"
      ],
      "metadata": {
        "id": "PX-vIZoTTJXt"
      },
      "execution_count": null,
      "outputs": []
    },
    {
      "cell_type": "markdown",
      "source": [
        "`inplace=True`**:**\n",
        "\n",
        "*   The operation modifies the original DataFrame directly without creating a copy.\n",
        "*   This can be more memory efficient for large DataFrames, but it also carries the risk of permanently altering your data."
      ],
      "metadata": {
        "id": "_Y7lenRMTBjn"
      }
    },
    {
      "cell_type": "code",
      "source": [
        "df = pd.DataFrame({'A': [1, 2, 3], 'B': [4, 5, 6]})\n",
        "df.drop('B', axis=1, inplace=True)\n",
        "print(df)"
      ],
      "metadata": {
        "id": "5paVXhVQTTBs"
      },
      "execution_count": null,
      "outputs": []
    },
    {
      "cell_type": "markdown",
      "source": [
        "## Handling missing data"
      ],
      "metadata": {
        "id": "LTt0-_sc-2Yg"
      }
    },
    {
      "cell_type": "markdown",
      "source": [
        "**Detecting missing data:**"
      ],
      "metadata": {
        "id": "8YAXBVxNSKdd"
      }
    },
    {
      "cell_type": "markdown",
      "source": [
        "`isnull()` and `notnull(`): These methods return boolean masks indicating missing (True) or non-missing (False) values."
      ],
      "metadata": {
        "id": "BmaY3HXvTgxx"
      }
    },
    {
      "cell_type": "code",
      "source": [
        "df = pd.DataFrame({'A': [1, 2, np.nan, 4], 'B': [5, np.nan, 7, 8]})\n",
        "print(df.isnull())\n",
        "print(df.notnull())"
      ],
      "metadata": {
        "id": "6T_yJjjmToDO"
      },
      "execution_count": null,
      "outputs": []
    },
    {
      "cell_type": "markdown",
      "source": [
        "**Removing missing values:**"
      ],
      "metadata": {
        "id": "qR5GZ9yYSNYb"
      }
    },
    {
      "cell_type": "markdown",
      "source": [
        "`dropna()`: Drops rows or columns containing missing values."
      ],
      "metadata": {
        "id": "ntiDL45DTtZE"
      }
    },
    {
      "cell_type": "code",
      "source": [
        "df = pd.DataFrame({'A': [1, 2, np.nan, 4], 'B': [5, np.nan, 7, 8]})\n",
        "df_dropped = df.dropna()\n",
        "print(df)\n",
        "print(df_dropped)"
      ],
      "metadata": {
        "id": "A_-2cWvkTx1N"
      },
      "execution_count": null,
      "outputs": []
    },
    {
      "cell_type": "markdown",
      "source": [
        "**Replacing missing values:**"
      ],
      "metadata": {
        "id": "NP_OIoUQSXv-"
      }
    },
    {
      "cell_type": "markdown",
      "source": [
        "`fillna()`: Fills missing values with specified values."
      ],
      "metadata": {
        "id": "qcN8B0rZT64F"
      }
    },
    {
      "cell_type": "code",
      "source": [
        "df = pd.DataFrame({'A': [1, 2, np.nan, 4], 'B': [5, np.nan, 7, 8]})\n",
        "df_filled = df.fillna(0)\n",
        "print(df)\n",
        "print(df_filled)"
      ],
      "metadata": {
        "id": "__AAEUFTVFcc"
      },
      "execution_count": null,
      "outputs": []
    },
    {
      "cell_type": "markdown",
      "source": [
        "`replace()`: Replaces specific values with other values."
      ],
      "metadata": {
        "id": "7NGb4QMxUykW"
      }
    },
    {
      "cell_type": "code",
      "source": [
        "df = pd.DataFrame({'A': [1, 2, 3, 4], 'B': [5, 6, 7, 8]})\n",
        "df_replaced = df.replace(3, 10)\n",
        "print(df)\n",
        "print(df_replaced)"
      ],
      "metadata": {
        "id": "Fv3bo8o6VL9Y"
      },
      "execution_count": null,
      "outputs": []
    },
    {
      "cell_type": "markdown",
      "source": [
        "**Interpolation:**"
      ],
      "metadata": {
        "id": "Qdxm-GHtScsb"
      }
    },
    {
      "cell_type": "code",
      "source": [
        "df = pd.DataFrame({'A': [1, 2, np.nan, 4], 'B': [5, np.nan, 7, 8]})\n",
        "df_interpolated = df.interpolate()\n",
        "print(df)\n",
        "print(df_interpolated)"
      ],
      "metadata": {
        "id": "d67kk9fGVRxz"
      },
      "execution_count": null,
      "outputs": []
    },
    {
      "cell_type": "markdown",
      "source": [
        "## Converting to numpy arrays"
      ],
      "metadata": {
        "id": "Ps3ji7SO-9jK"
      }
    },
    {
      "cell_type": "markdown",
      "source": [
        "To convert a Pandas DataFrame into a NumPy array, use the `to_numpy()` method."
      ],
      "metadata": {
        "id": "gnIR5MkJVrx3"
      }
    },
    {
      "cell_type": "code",
      "source": [
        "df = pd.DataFrame({'A': [1, 2, 3], 'B': [4, 5, 6]})\n",
        "arr = df.to_numpy()\n",
        "print(arr)"
      ],
      "metadata": {
        "id": "rxWg4WwhV2iU"
      },
      "execution_count": null,
      "outputs": []
    },
    {
      "cell_type": "markdown",
      "source": [
        "\n",
        "\n",
        "---\n",
        "\n",
        "\n",
        "# 03. Matplotlib basics\n",
        "\n",
        "\n",
        "---\n",
        "\n"
      ],
      "metadata": {
        "id": "lWIMwQV55XzB"
      }
    },
    {
      "cell_type": "markdown",
      "source": [
        "## Why Matplotlib?"
      ],
      "metadata": {
        "id": "Uc9u5-Y__xio"
      }
    },
    {
      "cell_type": "code",
      "source": [
        "import matplotlib.pyplot as plt"
      ],
      "metadata": {
        "id": "vbHTXIceW0qc"
      },
      "execution_count": null,
      "outputs": []
    },
    {
      "cell_type": "markdown",
      "source": [
        "**1. Versatility:** Matplotlib can generate a wide variety of plots, including line plots, scatter plots, bar charts, histograms, 3D plots, and more.\n",
        "It provides extensive customization options to control every aspect of the plot's appearance.\n",
        "\n",
        "**2. Popularity and Integration:** It's the most popular plotting library in Python, with a large community and extensive documentation.\n",
        "It integrates seamlessly with other data science libraries like NumPy and Pandas.\n",
        "\n",
        "**3. Publication-Quality Output:** Matplotlib produces high-quality figures suitable for presentations, reports, and scientific publications.\n",
        "You can export plots in various formats (PNG, JPG, PDF, SVG).\n",
        "\n",
        "**4. Foundation for Other Libraries:** Many other plotting libraries in Python, like Seaborn and Plotly, are built on top of Matplotlib, extending its capabilities.\n",
        "\n",
        "**5. Ease of Use:** Matplotlib provides both a MATLAB-like interface (pyplot) for quick plotting and an object-oriented interface for more complex customizations."
      ],
      "metadata": {
        "id": "kZTe93OwWaf7"
      }
    },
    {
      "cell_type": "markdown",
      "source": [
        "## Plotting"
      ],
      "metadata": {
        "id": "X5qXNmwp_2hU"
      }
    },
    {
      "cell_type": "markdown",
      "source": [
        "**1. Prepare Your Data:** Have your data ready in lists or NumPy arrays.\n",
        "\n",
        "**2. Create a Figure and Axes:** Use `plt.figure()` to create a figure object.\n",
        "Use `plt.axes()` to create an axes object within the figure.\n",
        "\n",
        "**3. Plot Your Data:** Use plotting functions like `plt.plot()` for line plots, `plt.scatter()` for scatter plots, `plt.bar()` for bar charts, etc.\n",
        "\n",
        "**4. Customize Your Plot:** Set labels for axes using `plt.xlabel()` and `plt.ylabel()`.\n",
        "Add a title using `plt.title()`.\n",
        "Customize colors, markers, line styles, and other aspects.\n",
        "\n",
        "**5. Display Your Plot:** Use `plt.show()` to display the plot."
      ],
      "metadata": {
        "id": "ylQixt4jXJ2O"
      }
    },
    {
      "cell_type": "code",
      "source": [
        "data = [1, 2, 3, 4, 5]\n",
        "plt.plot(data)\n",
        "plt.show()"
      ],
      "metadata": {
        "id": "2z50ZWRKal1_"
      },
      "execution_count": null,
      "outputs": []
    },
    {
      "cell_type": "code",
      "source": [
        "# 1. Preparing data\n",
        "data = [1, 2, 3, 4, 5]\n",
        "\n",
        "# 2. Creating a figure and axes\n",
        "fig = plt.figure()\n",
        "ax = fig.add_axes([0, 0, 1, 1])\n",
        "\n",
        "# 3. Plotting data\n",
        "ax.plot(data)\n",
        "\n",
        "# 4. Customizing the plot\n",
        "ax.set_xlabel('X-axis')\n",
        "ax.set_ylabel('Y-axis')\n",
        "ax.set_title('My Plot')\n",
        "\n",
        "# 5. Displaying the plot\n",
        "plt.show()"
      ],
      "metadata": {
        "id": "6yE-Oj2SXk2D"
      },
      "execution_count": null,
      "outputs": []
    },
    {
      "cell_type": "markdown",
      "source": [
        "## Subplots"
      ],
      "metadata": {
        "id": "f-RqHhzN_7pu"
      }
    },
    {
      "cell_type": "markdown",
      "source": [
        "1. Create a figure with `nrows` rows and `ncols` columns of sublplots\n",
        "\n",
        "2. Access individual subplots using `axes[row_index, col_index]`\n",
        "\n",
        "3. Use `plt.show()` to display plots"
      ],
      "metadata": {
        "id": "DETJcDSnY9xu"
      }
    },
    {
      "cell_type": "code",
      "source": [
        "# Create a figure with 2 rows and 3 columns of subplots\n",
        "fig, axes = plt.subplots(nrows=2, ncols=3)\n",
        "\n",
        "# Access individual subplots using axes[row_index, col_index]\n",
        "axes[0, 0].plot([1, 2, 3], [4, 5, 6])\n",
        "axes[1, 2].scatter([1, 2, 3], [4, 5, 6])\n",
        "\n",
        "plt.tight_layout()  # Adjust spacing between subplots\n",
        "plt.show()"
      ],
      "metadata": {
        "id": "xitAY5ElYv1z"
      },
      "execution_count": null,
      "outputs": []
    },
    {
      "cell_type": "markdown",
      "source": [
        "## DataFrame.plot()"
      ],
      "metadata": {
        "id": "QpxNIfIgAL1e"
      }
    },
    {
      "cell_type": "markdown",
      "source": [
        "In Pandas, the `df.plot()` method provides a convenient way to create various plots directly from a DataFrame. It leverages Matplotlib under the hood, offering a simplified interface for common visualization tasks."
      ],
      "metadata": {
        "id": "qPwsrHgQZ4qx"
      }
    },
    {
      "cell_type": "code",
      "source": [
        "df = pd.DataFrame({'A': [1, 2, 3], 'B': [4, 5, 6]})\n",
        "df.plot()\n",
        "plt.show()"
      ],
      "metadata": {
        "id": "PVdzdoJ-Z9UM"
      },
      "execution_count": null,
      "outputs": []
    },
    {
      "cell_type": "markdown",
      "source": [
        "**Customizing Plots:**\n",
        "\n",
        "*   `kind`: Specifies the type of plot (e.g., 'line', 'scatter', 'bar', 'hist', 'box', 'pie', etc.).\n",
        "*   `x` and `y`: Specify the columns to use for the x and y axes.\n",
        "*   `title`: Sets the plot title.\n",
        "*   `figsize`: Controls the figure size.\n",
        "*   `legend`: Shows or hides the legend."
      ],
      "metadata": {
        "id": "vHBz3Y3JaCo_"
      }
    },
    {
      "cell_type": "code",
      "source": [
        "df = pd.DataFrame({'A': [1, 2, 3], 'B': [4, 5, 6]})\n",
        "df.plot(kind='scatter', x='A', y='B', title='Scatter Plot', figsize=(8, 6), legend=True)\n",
        "plt.show()"
      ],
      "metadata": {
        "id": "RKYTsXZ7aWFd"
      },
      "execution_count": null,
      "outputs": []
    },
    {
      "cell_type": "markdown",
      "source": [
        "\n",
        "\n",
        "---\n",
        "\n",
        "\n",
        "# 04. TensorFlow basics\n",
        "\n",
        "\n",
        "---\n",
        "\n"
      ],
      "metadata": {
        "id": "h8vwEWD25b0R"
      }
    },
    {
      "cell_type": "markdown",
      "source": [
        "## Why TensorFlow"
      ],
      "metadata": {
        "id": "v6Kt6dCjAkqx"
      }
    },
    {
      "cell_type": "code",
      "source": [
        "import tensorflow as tf\n",
        "print(tf.__version__)"
      ],
      "metadata": {
        "id": "YpGVrSF6dDwC"
      },
      "execution_count": null,
      "outputs": []
    },
    {
      "cell_type": "markdown",
      "source": [
        "**1. Efficiency:** TensorFlow allows for high-performance numerical computation, especially when dealing with large datasets, by leveraging optimized C++ implementations and utilizing GPUs or TPUs.\n",
        "\n",
        "**2. Flexibility:** It provides a flexible framework for building and training a wide range of machine learning models, from simple linear regression to complex deep neural networks.\n",
        "\n",
        "**3. Scalability:** TensorFlow can be used to train and deploy models on various platforms, from single machines to distributed clusters, making it suitable for both research and production environments.\n",
        "\n",
        "**4. Extensive Ecosystem:** It boasts a rich ecosystem of tools and libraries for tasks like data preprocessing, model visualization, and deployment.\n",
        "\n",
        "**5. Community Support:** TensorFlow has a large and active community, ensuring ample resources, tutorials, and support for users.\n",
        "\n",
        "**6. Production-Ready:** It offers features for deploying models in production, including model optimization, serving, and monitoring"
      ],
      "metadata": {
        "id": "GxyHayPgdICg"
      }
    },
    {
      "cell_type": "markdown",
      "source": [
        "## History of TF"
      ],
      "metadata": {
        "id": "Mro_2XAlAnFR"
      }
    },
    {
      "cell_type": "markdown",
      "source": [
        "**2011:** The project, initially named \"DistBelief,\" is developed within Google Brain for large-scale distributed training of neural networks.\n",
        "\n",
        "**2015:** TensorFlow is publicly released as an open-source software library, marking a significant milestone in making deep learning accessible to a broader audience.\n",
        "\n",
        "**2017:** TensorFlow 1.0 is released, solidifying its position as a leading deep learning framework.\n",
        "\n",
        "**2019:** TensorFlow 2.0 is introduced, bringing significant improvements in usability, including eager execution and a more streamlined API."
      ],
      "metadata": {
        "id": "qS92HqCvdf7J"
      }
    },
    {
      "cell_type": "markdown",
      "source": [
        "## PyTorch vs TensorFlow"
      ],
      "metadata": {
        "id": "sK4S50SuAq2M"
      }
    },
    {
      "cell_type": "markdown",
      "source": [
        "**TensorFlow:**\n",
        "\n",
        "* **Static Computation Graphs:** TensorFlow traditionally used static computation graphs, which can be optimized for performance but may require more upfront planning. However, TensorFlow 2.x introduced eager execution, bridging the gap with PyTorch's dynamic approach.\n",
        "* **Production-Ready:** TensorFlow provides a comprehensive ecosystem for deploying models in production, including tools for optimization, serving, and monitoring.\n",
        "* W**ide Adoption:** It is widely used in both research and industry, with a large and active community."
      ],
      "metadata": {
        "id": "wt-PnJ5seqMT"
      }
    },
    {
      "cell_type": "markdown",
      "source": [
        "**PyTorch:**\n",
        "\n",
        "* **Dynamic Computation Graphs:** PyTorch constructs computation graphs dynamically, allowing for greater flexibility and easier debugging compared to static graphs.\n",
        "* **Pythonic and Intuitive:** It offers a more Pythonic and intuitive programming style, making it easier to learn and use for Python developers.\n",
        "* **Strong Research Focus:** PyTorch is widely favored in the research community due to its flexibility and ease of experimentation."
      ],
      "metadata": {
        "id": "TUA5dt7ye4kY"
      }
    },
    {
      "cell_type": "markdown",
      "source": [
        "## Tensors"
      ],
      "metadata": {
        "id": "nxE1CKEJBBzc"
      }
    },
    {
      "cell_type": "markdown",
      "source": [
        "![image.png](data:image/png;base64,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)"
      ],
      "metadata": {
        "id": "kpiyOpGYd5XR"
      }
    },
    {
      "cell_type": "markdown",
      "source": [
        "![image.png](data:image/png;base64,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)"
      ],
      "metadata": {
        "id": "f2tT10vieKmy"
      }
    },
    {
      "cell_type": "markdown",
      "source": [
        "## Creating a tensor"
      ],
      "metadata": {
        "id": "nps9jVfvBUb0"
      }
    },
    {
      "cell_type": "markdown",
      "source": [
        "**1. Using tf.constant():**\n",
        "\n",
        "This method creates a tensor from a constant value."
      ],
      "metadata": {
        "id": "h5beHuYdgV9N"
      }
    },
    {
      "cell_type": "code",
      "source": [
        "tensor = tf.constant([[1, 2, 3], [4, 5, 6]])\n",
        "print(tensor)"
      ],
      "metadata": {
        "id": "9w7SY__Ags-x"
      },
      "execution_count": null,
      "outputs": []
    },
    {
      "cell_type": "code",
      "source": [
        "arr = np.array([[1, 2, 3], [4, 5, 6]])\n",
        "tensor = tf.constant(arr)\n",
        "print(tensor)"
      ],
      "metadata": {
        "id": "3_CFhcCDgY5x"
      },
      "execution_count": null,
      "outputs": []
    },
    {
      "cell_type": "markdown",
      "source": [
        "**2. Using tf.Variable():**\n",
        "\n",
        "This method creates a tensor whose value can be modified:"
      ],
      "metadata": {
        "id": "Y2PZjlftgqsL"
      }
    },
    {
      "cell_type": "code",
      "source": [
        "tensor = tf.Variable([[1, 2, 3], [4, 5, 6]])\n",
        "print(tensor)"
      ],
      "metadata": {
        "id": "yzecKY2og0c4"
      },
      "execution_count": null,
      "outputs": []
    },
    {
      "cell_type": "code",
      "source": [
        "arr = np.array([[1, 2, 3], [4, 5, 6]])\n",
        "tensor = tf.Variable(arr)\n",
        "print(tensor)"
      ],
      "metadata": {
        "id": "yvg-teXzg4w5"
      },
      "execution_count": null,
      "outputs": []
    },
    {
      "cell_type": "code",
      "source": [
        "tensor = tf.Variable([[1, 2, 3], [4, 5, 6]])\n",
        "tensor[0, 0].assign(10)\n",
        "print(tensor)"
      ],
      "metadata": {
        "id": "mT4BWYvxhRge"
      },
      "execution_count": null,
      "outputs": []
    },
    {
      "cell_type": "markdown",
      "source": [
        "**3. Using** `tf.zeros()`**,** `tf.ones()`**, and** `tf.fill()`**:**\n",
        "\n",
        "These methods create tensors filled with zeros, ones, or a specified value."
      ],
      "metadata": {
        "id": "RsbJ7DNbhtey"
      }
    },
    {
      "cell_type": "code",
      "source": [
        "zeros_tensor = tf.zeros((2, 3))\n",
        "print(zeros_tensor)"
      ],
      "metadata": {
        "id": "A5MAAgZuiHOU"
      },
      "execution_count": null,
      "outputs": []
    },
    {
      "cell_type": "code",
      "source": [
        "ones_tensor = tf.ones((2, 3))\n",
        "print(ones_tensor)"
      ],
      "metadata": {
        "id": "crqXhvMUiOlX"
      },
      "execution_count": null,
      "outputs": []
    },
    {
      "cell_type": "code",
      "source": [
        "tf.fill((2, 3), 5)"
      ],
      "metadata": {
        "id": "cbDwZNaziS8w"
      },
      "execution_count": null,
      "outputs": []
    },
    {
      "cell_type": "markdown",
      "source": [
        "## Tensor attributes"
      ],
      "metadata": {
        "id": "xnrHhYgtBgtC"
      }
    },
    {
      "cell_type": "markdown",
      "source": [
        "**1. Shape:**\n",
        "\n",
        "*   Defines the dimensionality of the tensor, indicating the number of elements along each axis.\n",
        "*   Accessed using the `.shape` attribute."
      ],
      "metadata": {
        "id": "MFQFndFTjjay"
      }
    },
    {
      "cell_type": "code",
      "source": [
        "tensor = tf.constant([[1, 2, 3], [4, 5, 6]])\n",
        "print(tensor.shape)"
      ],
      "metadata": {
        "id": "fQApRtuNj66c"
      },
      "execution_count": null,
      "outputs": []
    },
    {
      "cell_type": "markdown",
      "source": [
        "**2. Rank:**\n",
        "\n",
        "*   Represents the number of dimensions in the tensor.\n",
        "*   Accessed using the `tf.rank()` function."
      ],
      "metadata": {
        "id": "YZYJsSiIj9WW"
      }
    },
    {
      "cell_type": "code",
      "source": [
        "tensor = tf.constant([[1, 2, 3], [4, 5, 6]])\n",
        "print(tf.rank(tensor))"
      ],
      "metadata": {
        "id": "88HnF4KFkExy"
      },
      "execution_count": null,
      "outputs": []
    },
    {
      "cell_type": "markdown",
      "source": [
        "**3. Data Type:**\n",
        "\n",
        "*   Specifies the type of elements stored in the tensor (e.g., `float32`, `int64`, `bool`).\n",
        "*   Accessed using the .dtype attribute."
      ],
      "metadata": {
        "id": "1V3pemAIkgA3"
      }
    },
    {
      "cell_type": "code",
      "source": [
        "tensor = tf.constant([[1, 2, 3], [4, 5, 6]])\n",
        "print(tensor.dtype)"
      ],
      "metadata": {
        "id": "2cR3ldMRksEq"
      },
      "execution_count": null,
      "outputs": []
    },
    {
      "cell_type": "markdown",
      "source": [
        "**4. Device Placement:**\n",
        "\n",
        "* Indicates the hardware device (CPU, GPU, or TPU) where the tensor resides.\n",
        "* Accessed using the `.device` attribute."
      ],
      "metadata": {
        "id": "ehu6zPESkzH3"
      }
    },
    {
      "cell_type": "code",
      "source": [
        "tensor = tf.constant([[1, 2, 3], [4, 5, 6]])\n",
        "print(tensor.device)"
      ],
      "metadata": {
        "id": "4NpT9tXolDsB"
      },
      "execution_count": null,
      "outputs": []
    },
    {
      "cell_type": "markdown",
      "source": [
        "## Reshaping and casting"
      ],
      "metadata": {
        "id": "gpNQ3tAiidLS"
      }
    },
    {
      "cell_type": "markdown",
      "source": [
        "**Reshaping Tensors:**\n",
        "\n",
        "*   Reshaping changes the dimensionality of a tensor without altering its underlying data.\n",
        "*   Use the `tf.reshape()` function.\n",
        "*   You can use `-1` in the new shape to let TensorFlow automatically calculate the appropriate dimension size."
      ],
      "metadata": {
        "id": "kL7-9-K9lXBy"
      }
    },
    {
      "cell_type": "code",
      "source": [
        "tensor = tf.constant([[1, 2, 3], [4, 5, 6]])\n",
        "reshaped_tensor = tf.reshape(tensor, (3, 2))\n",
        "print(reshaped_tensor)"
      ],
      "metadata": {
        "id": "qQGI6B5rlbNA"
      },
      "execution_count": null,
      "outputs": []
    },
    {
      "cell_type": "code",
      "source": [
        "tensor = tf.constant([[1, 2, 3], [4, 5, 6]])\n",
        "reshaped_tensor = tf.reshape(tensor, (-1, 2))\n",
        "print(reshaped_tensor)"
      ],
      "metadata": {
        "id": "I57XK6aflip6"
      },
      "execution_count": null,
      "outputs": []
    },
    {
      "cell_type": "markdown",
      "source": [
        "**Casting Tensors:**\n",
        "\n",
        "*   Casting changes the data type of a tensor's elements.\n",
        "Use the `tf.cast()` function.\n",
        "*   The total number of elements must remain the same after reshaping.\n",
        "*   Casting can be useful for compatibility between operations that require specific data types."
      ],
      "metadata": {
        "id": "ukeRDIoslrFz"
      }
    },
    {
      "cell_type": "code",
      "source": [
        "tensor = tf.constant([[1, 2, 3], [4, 5, 6]])\n",
        "casted_tensor = tf.cast(tensor, tf.float32)\n",
        "print(tensor)\n",
        "print(casted_tensor)"
      ],
      "metadata": {
        "id": "n_CZvSSRl8ic"
      },
      "execution_count": null,
      "outputs": []
    },
    {
      "cell_type": "markdown",
      "source": [
        ">   Average DL Enjoyer 🧡 `tf.float32`"
      ],
      "metadata": {
        "id": "dEo06URmnEmR"
      }
    },
    {
      "cell_type": "markdown",
      "source": [
        "## Manipulating Tensors"
      ],
      "metadata": {
        "id": "MtaYoKG-BbH6"
      }
    },
    {
      "cell_type": "markdown",
      "source": [
        "**1. Slicing and Indexing:**\n",
        "\n",
        "Access specific elements or sub-tensors using indexing and slicing."
      ],
      "metadata": {
        "id": "yPmH4T6BnzzJ"
      }
    },
    {
      "cell_type": "code",
      "source": [
        "tensor = tf.constant([[1, 2, 3], [4, 5, 6]])\n",
        "print(tensor[0, 1])"
      ],
      "metadata": {
        "id": "cnaD9Wk8ogzr"
      },
      "execution_count": null,
      "outputs": []
    },
    {
      "cell_type": "code",
      "source": [
        "tensor = tf.constant([[1, 2, 3], [4, 5, 6]])\n",
        "print(tensor[:, 1])"
      ],
      "metadata": {
        "id": "SH0BuAuUoivQ"
      },
      "execution_count": null,
      "outputs": []
    },
    {
      "cell_type": "markdown",
      "source": [
        "**2. Concatenation:**\n",
        "\n",
        "Join tensors along a specified axis using `tf.concat()`."
      ],
      "metadata": {
        "id": "BZMBe-3MoC8X"
      }
    },
    {
      "cell_type": "code",
      "source": [
        "tensor1 = tf.constant([[1, 2], [3, 4]])\n",
        "tensor2 = tf.constant([[5, 6], [7, 8]])\n",
        "concatenated_tensor = tf.concat([tensor1, tensor2], axis=0)\n",
        "print(concatenated_tensor)"
      ],
      "metadata": {
        "id": "lCiak5WUoolH"
      },
      "execution_count": null,
      "outputs": []
    },
    {
      "cell_type": "markdown",
      "source": [
        "**3. Stacking:**\n",
        "\n",
        "Create a new tensor by stacking existing tensors along a new axis using `tf.stack()`."
      ],
      "metadata": {
        "id": "2PHDw_OgoFK_"
      }
    },
    {
      "cell_type": "code",
      "source": [
        "tensor1 = tf.constant([[1, 2], [3, 4]])\n",
        "tensor2 = tf.constant([[5, 6], [7, 8]])\n",
        "stacked_tensor = tf.stack([tensor1, tensor2], axis=0)\n",
        "print(stacked_tensor)"
      ],
      "metadata": {
        "id": "JrU6p-vwosRS"
      },
      "execution_count": null,
      "outputs": []
    },
    {
      "cell_type": "markdown",
      "source": [
        "**4. Expanding Dimensions:**\n",
        "\n",
        "Add a new dimension of size 1 to a tensor using `tf.expand_dims()`."
      ],
      "metadata": {
        "id": "UIP4otTWoKCX"
      }
    },
    {
      "cell_type": "code",
      "source": [
        "tensor = tf.constant([[1, 2, 3], [4, 5, 6]])\n",
        "expanded_tensor = tf.expand_dims(tensor, axis=1)\n",
        "print(tensor)\n",
        "print(expanded_tensor)"
      ],
      "metadata": {
        "id": "JXAjarbwove_"
      },
      "execution_count": null,
      "outputs": []
    },
    {
      "cell_type": "markdown",
      "source": [
        "**5. Squeezing Dimensions:**\n",
        "\n",
        "Remove dimensions of size 1 from a tensor using `tf.squeeze()`."
      ],
      "metadata": {
        "id": "Q9BcKxUIoLm-"
      }
    },
    {
      "cell_type": "code",
      "source": [
        "tensor = tf.constant([[[1], [2], [3]]])\n",
        "squeezed_tensor = tf.squeeze(tensor, axis=0)\n",
        "print(tensor)\n",
        "print(squeezed_tensor)"
      ],
      "metadata": {
        "id": "DH76g_n8o_Om"
      },
      "execution_count": null,
      "outputs": []
    },
    {
      "cell_type": "markdown",
      "source": [
        "**6. Transposing:**\n",
        "\n",
        "Swap the dimensions of a tensor using `tf.transpose()`."
      ],
      "metadata": {
        "id": "wj6mJlT4oNeL"
      }
    },
    {
      "cell_type": "code",
      "source": [
        "tensor = tf.constant([[1, 2, 3], [4, 5, 6]])\n",
        "transposed_tensor = tf.transpose(tensor)\n",
        "print(tensor)\n",
        "print(transposed_tensor)"
      ],
      "metadata": {
        "id": "TmSmQ8dRpDmB"
      },
      "execution_count": null,
      "outputs": []
    },
    {
      "cell_type": "markdown",
      "source": [
        "## Tensor operations"
      ],
      "metadata": {
        "id": "X62hIsjvBFtZ"
      }
    },
    {
      "cell_type": "markdown",
      "source": [
        "**1. Arithmetic Operations:**\n",
        "\n",
        "Perform element-wise arithmetic operations like addition, subtraction, multiplication, division, and more."
      ],
      "metadata": {
        "id": "pyjGia1BpqrB"
      }
    },
    {
      "cell_type": "code",
      "source": [
        "tensor1 = tf.constant([1, 2, 3])\n",
        "tensor2 = tf.constant([4, 5, 6])\n",
        "\n",
        "addition = tensor1 + tensor2\n",
        "subtraction = tensor1 - tensor2\n",
        "multiplication = tensor1 * tensor2\n",
        "division = tensor1 / tensor2\n",
        "\n",
        "print(addition)\n",
        "print(subtraction)\n",
        "print(multiplication)\n",
        "print(division)"
      ],
      "metadata": {
        "id": "JI-jlKc0p-os"
      },
      "execution_count": null,
      "outputs": []
    },
    {
      "cell_type": "markdown",
      "source": [
        "**2. Matrix Operations:**\n",
        "\n",
        "Perform matrix multiplication using `tf.matmul()` or the `@` operator."
      ],
      "metadata": {
        "id": "ouWKZtXqprMx"
      }
    },
    {
      "cell_type": "code",
      "source": [
        "matrix1 = tf.constant([[1, 2], [3, 4]])\n",
        "matrix2 = tf.constant([[5, 6], [7, 8]])\n",
        "\n",
        "matrix_multiplication = tf.matmul(matrix1, matrix2)\n",
        "matrix_multiplication_2 = matrix1 @ matrix2\n",
        "print(matrix_multiplication)\n",
        "print(matrix_multiplication_2)"
      ],
      "metadata": {
        "id": "IXv3ktHIqEfI"
      },
      "execution_count": null,
      "outputs": []
    },
    {
      "cell_type": "markdown",
      "source": [
        "**3. Reduction Operations:**\n",
        "\n",
        "Calculate aggregate values like sum, mean, min, max, etc., along specified axes using functions like `tf.reduce_sum()`, `tf.reduce_mean()`, etc."
      ],
      "metadata": {
        "id": "Gnz0zXwAprpO"
      }
    },
    {
      "cell_type": "code",
      "source": [
        "tensor = tf.constant([[1, 2, 3], [4, 5, 6]])\n",
        "\n",
        "sum_all = tf.reduce_sum(tensor)\n",
        "mean_rows = tf.reduce_mean(tensor, axis=0)\n",
        "max_columns = tf.reduce_max(tensor, axis=1)\n",
        "\n",
        "print(sum_all)\n",
        "print(mean_rows)\n",
        "print(max_columns)"
      ],
      "metadata": {
        "id": "B6wR2G0eqPnH"
      },
      "execution_count": null,
      "outputs": []
    },
    {
      "cell_type": "markdown",
      "source": [
        "**4. Element-wise Functions:**\n",
        "\n",
        "Apply element-wise mathematical functions like `tf.sqrt()`, `tf.exp()`, `tf.sin()`, etc."
      ],
      "metadata": {
        "id": "BP_5vyuvpshL"
      }
    },
    {
      "cell_type": "code",
      "source": [
        "tensor = tf.constant([1, 4, 9])\n",
        "\n",
        "sqrt_tensor = tf.sqrt(tensor)\n",
        "exp_tensor = tf.exp(tensor)\n",
        "\n",
        "print(sqrt_tensor)\n",
        "print(exp_tensor)"
      ],
      "metadata": {
        "id": "85-HPJQNqVdw"
      },
      "execution_count": null,
      "outputs": []
    },
    {
      "cell_type": "code",
      "source": [
        "tensor = tf.constant([1, 4, 9], dtype=tf.float32)\n",
        "\n",
        "sqrt_tensor = tf.sqrt(tensor)\n",
        "exp_tensor = tf.exp(tensor)\n",
        "\n",
        "print(sqrt_tensor)\n",
        "print(exp_tensor)"
      ],
      "metadata": {
        "id": "H0TpSHAEqrUq"
      },
      "execution_count": null,
      "outputs": []
    },
    {
      "cell_type": "markdown",
      "source": [
        "That was just one of the reasons why we love `tf.float32`"
      ],
      "metadata": {
        "id": "1VXufH9lq08a"
      }
    }
  ]
}