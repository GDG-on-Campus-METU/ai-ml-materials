{
  "nbformat": 4,
  "nbformat_minor": 0,
  "metadata": {
    "colab": {
      "provenance": [],
      "authorship_tag": "ABX9TyN4GMuGfBwGRfZn7ASverET",
      "include_colab_link": true
    },
    "kernelspec": {
      "name": "python3",
      "display_name": "Python 3"
    },
    "language_info": {
      "name": "python"
    }
  },
  "cells": [
    {
      "cell_type": "markdown",
      "metadata": {
        "id": "view-in-github",
        "colab_type": "text"
      },
      "source": [
        "<a href=\"https://colab.research.google.com/github/GDG-on-Campus-METU/ai-ml-materials/blob/main/week4/week4_assignment.ipynb\" target=\"_parent\"><img src=\"https://colab.research.google.com/assets/colab-badge.svg\" alt=\"Open In Colab\"/></a>"
      ]
    },
    {
      "cell_type": "markdown",
      "source": [
        "\n",
        "\n",
        "---\n",
        "\n",
        "\n",
        "# 00. About Assignment\n",
        "\n",
        "\n",
        "---\n",
        "\n"
      ],
      "metadata": {
        "id": "QKDnB-MZaDZr"
      }
    },
    {
      "cell_type": "markdown",
      "source": [
        "**There are 1 question in this assignment**\n",
        "\n",
        "\n",
        "**To complete this assignment:**\n",
        "\n",
        "1.   Replace **all** `#TODO` comments with your answers.\n",
        "2.   Run **all** code blocks under \"01. Assignment\" section.\n",
        "3.   Run the code block under \"02. Complete the Assignment\" section.\n",
        "4.   Confirm that you completed this assignment without cheating by typing `\"I confirm\"`\n",
        "4.   A csv file named `w4_submission.csv ` and a h5 file named `model.h5` will appear on files (you can reach files on the bar on the left) after you run the block.\n",
        "5. Download `w4_submission.csv`.\n",
        "5.   Download `model.h5`.\n",
        "5.   Send .csv and .h5 files to your instructors via Google Classroom."
      ],
      "metadata": {
        "id": "kqldi1S6aaBw"
      }
    },
    {
      "cell_type": "markdown",
      "source": [
        "\n",
        "\n",
        "---\n",
        "\n",
        "\n",
        "# 01. Assignment\n",
        "\n",
        "\n",
        "---\n",
        "\n"
      ],
      "metadata": {
        "id": "u1RPVvL8aj6F"
      }
    },
    {
      "cell_type": "markdown",
      "source": [
        "## Q0 - Personal Info"
      ],
      "metadata": {
        "id": "XDmPK7bobic_"
      }
    },
    {
      "cell_type": "code",
      "source": [
        "from datetime import datetime\n",
        "\n",
        "now = datetime.now()\n",
        "datetimenow = now.strftime(\"%d/%m/%Y %H:%M:%S\")\n",
        "name = input(\"Enter your full name:  \")"
      ],
      "metadata": {
        "id": "qETsfYsEb1nQ"
      },
      "execution_count": null,
      "outputs": []
    },
    {
      "cell_type": "markdown",
      "source": [
        "## Q1 - Creating training and evaluating a multiclass classification model"
      ],
      "metadata": {
        "id": "oQJ6_2EYboaH"
      }
    },
    {
      "cell_type": "markdown",
      "source": [
        "1.   Import libraries that you will use.\n",
        "2.   Get fashion mnist data by using `tf.keras.datasets.fashion_mnist.load_data()`.\n",
        "4.   Rescale images\n",
        "5.   Create tensors from data. (assign them to variables `x_train_tensor`, `x_test_tensor`, `y_train_tensor`, `y_test_tensor`)\n",
        "6.   Create a model and assign it to variable `model`.\n",
        "7.   Compile the model.\n",
        "8.   Train the model.\n",
        "9.   Evaluate the model\n",
        "11.   If you reached over %85 test accuracy, run the grading block\n",
        "11.   To pass this assignment, the test accuracy must be over %85.\n",
        "\n",
        "\n",
        "\n",
        "\n",
        "\n"
      ],
      "metadata": {
        "id": "dorUk7nUcuHp"
      }
    },
    {
      "cell_type": "code",
      "source": [
        "#TODO"
      ],
      "metadata": {
        "id": "tcAsSLnWetic"
      },
      "execution_count": null,
      "outputs": []
    },
    {
      "cell_type": "code",
      "source": [
        "# THIS BLOCK IS FOR GRADING\n",
        "# DO NOT MODIFY THIS BLOCK\n",
        "\n",
        "preds = model.predict(x_test_tensor)\n",
        "q1_answer = [tf.keras.metrics.Accuracy()(tf.argmax(preds, axis=1), y_test_tensor).numpy()]\n",
        "print(q1_answer)"
      ],
      "metadata": {
        "id": "5IHD11RoevjL"
      },
      "execution_count": null,
      "outputs": []
    },
    {
      "cell_type": "markdown",
      "source": [
        "\n",
        "\n",
        "---\n",
        "\n",
        "\n",
        "# 02. Complete the Assignment\n",
        "\n",
        "\n",
        "---\n",
        "\n"
      ],
      "metadata": {
        "id": "PHvFF7tYao-K"
      }
    },
    {
      "cell_type": "code",
      "source": [
        "import pandas as pd\n",
        "\n",
        "answers = [q1_answer]\n",
        "\n",
        "print(\"I confirm that I did all the homework in this assignment by myself.\\nI understand that if I am found to have cheated, I will forfeit my right to receive a certificate.\")\n",
        "confirmation = input(\"If you confirm the statement given above, type 'I confirm' to submit: \")\n",
        "data = {\n",
        "    \"name\": [\"name\", \"datetime\", \"confirmation\", \"answers\"],\n",
        "    \"data\": [name, datetimenow, confirmation, answers]\n",
        "}\n",
        "answers_df = pd.DataFrame(data)\n",
        "answers_df.set_index(\"name\", inplace=True)\n",
        "answers_df.to_csv(\"w4_submission.csv\", index=True)\n",
        "model.save(\"model.h5\")"
      ],
      "metadata": {
        "id": "9olQlqVTaL59"
      },
      "execution_count": null,
      "outputs": []
    }
  ]
}