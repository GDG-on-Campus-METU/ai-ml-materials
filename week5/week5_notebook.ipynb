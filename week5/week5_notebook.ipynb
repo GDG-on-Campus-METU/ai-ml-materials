{
  "nbformat": 4,
  "nbformat_minor": 0,
  "metadata": {
    "colab": {
      "provenance": [],
      "include_colab_link": true
    },
    "kernelspec": {
      "name": "python3",
      "display_name": "Python 3"
    },
    "language_info": {
      "name": "python"
    }
  },
  "cells": [
    {
      "cell_type": "markdown",
      "metadata": {
        "id": "view-in-github",
        "colab_type": "text"
      },
      "source": [
        "<a href=\"https://colab.research.google.com/github/GDG-on-Campus-METU/ai-ml-materials/blob/main/week5/week5_notebook.ipynb\" target=\"_parent\"><img src=\"https://colab.research.google.com/assets/colab-badge.svg\" alt=\"Open In Colab\"/></a>"
      ]
    },
    {
      "cell_type": "markdown",
      "source": [
        "\n",
        "\n",
        "---\n",
        "\n",
        "# 00. About week5\n",
        "\n",
        "---"
      ],
      "metadata": {
        "id": "urs_AZCVUwzS"
      }
    },
    {
      "cell_type": "markdown",
      "source": [
        "1. Importing libraries\n",
        "1. Optimizers\n",
        "1. Activation functions\n",
        "2. Loss functions\n",
        "4. Layer types"
      ],
      "metadata": {
        "id": "_JzSv0YWVCv1"
      }
    },
    {
      "cell_type": "markdown",
      "source": [
        "---\n",
        "\n",
        "# 01. Importing libraries\n",
        "\n",
        "---"
      ],
      "metadata": {
        "id": "eHyiIi8tjsQV"
      }
    },
    {
      "cell_type": "code",
      "source": [
        "import numpy as np\n",
        "import matplotlib.pyplot as plt\n",
        "import tensorflow as tf\n",
        "print(tf.__version__)"
      ],
      "metadata": {
        "id": "fj-DDjSzjwHx"
      },
      "execution_count": null,
      "outputs": []
    },
    {
      "cell_type": "markdown",
      "source": [
        "---\n",
        "\n",
        "# 02. Optimizers\n",
        "\n",
        "---"
      ],
      "metadata": {
        "id": "w5vNpSctVJiy"
      }
    },
    {
      "cell_type": "markdown",
      "source": [
        "> https://keras.io/api/optimizers/"
      ],
      "metadata": {
        "id": "bCeiY-gg5m-T"
      }
    },
    {
      "cell_type": "markdown",
      "source": [
        "---\n",
        "\n",
        "# 03. Activation functions\n",
        "\n",
        "---"
      ],
      "metadata": {
        "id": "0TPn8cqi5Pw7"
      }
    },
    {
      "cell_type": "markdown",
      "source": [
        "> https://keras.io/api/layers/activations/"
      ],
      "metadata": {
        "id": "7zrH_LRt5vV_"
      }
    },
    {
      "cell_type": "markdown",
      "source": [
        "## ReLU"
      ],
      "metadata": {
        "id": "pR90X6Fe6X68"
      }
    },
    {
      "cell_type": "code",
      "source": [
        "x = np.arange(-10, 10, 0.1)\n",
        "y = tf.keras.activations.relu(x).numpy()\n",
        "\n",
        "plt.plot(x, y)\n",
        "plt.grid(True)\n",
        "plt.xlim(-10, 10)\n",
        "plt.ylim(-10, 10)\n",
        "plt.show()"
      ],
      "metadata": {
        "id": "B8mzHYfc68oV"
      },
      "execution_count": null,
      "outputs": []
    },
    {
      "cell_type": "markdown",
      "source": [
        "## Sigmoid"
      ],
      "metadata": {
        "id": "6ttCG9IC6cYQ"
      }
    },
    {
      "cell_type": "code",
      "source": [
        "x = np.arange(-10, 10, 0.1)\n",
        "y = tf.keras.activations.sigmoid(x).numpy()\n",
        "\n",
        "plt.plot(x, y)\n",
        "plt.grid(True)\n",
        "plt.xlim(-10, 10)\n",
        "plt.ylim(-1, 2)\n",
        "plt.show()"
      ],
      "metadata": {
        "id": "uN8I0c7p7qpy"
      },
      "execution_count": null,
      "outputs": []
    },
    {
      "cell_type": "markdown",
      "source": [
        "## Softmax"
      ],
      "metadata": {
        "id": "opaU0-x56gsN"
      }
    },
    {
      "cell_type": "code",
      "source": [
        "import matplotlib.pyplot as plt\n",
        "import numpy as np\n",
        "x = np.array([1.,3.,4.])\n",
        "y = tf.keras.activations.softmax(x).numpy()\n",
        "\n",
        "plt.bar(np.arange(3), y)\n",
        "plt.grid(True)\n",
        "plt.xlim(-1, 3)\n",
        "plt.ylim(-0.5, 1.5)\n",
        "plt.show()\n"
      ],
      "metadata": {
        "id": "UdObeY-98Pcg"
      },
      "execution_count": null,
      "outputs": []
    },
    {
      "cell_type": "markdown",
      "source": [
        "## Tanh"
      ],
      "metadata": {
        "id": "Uu6WTw8i6maC"
      }
    },
    {
      "cell_type": "code",
      "source": [
        "x = np.arange(-10, 10, 0.1)\n",
        "y = tf.keras.activations.tanh(x).numpy()\n",
        "\n",
        "plt.plot(x, y)\n",
        "plt.grid(True)\n",
        "plt.xlim(-10, 10)\n",
        "plt.ylim(-2, 2)\n",
        "plt.show()"
      ],
      "metadata": {
        "id": "tPCozM5G9HDK"
      },
      "execution_count": null,
      "outputs": []
    },
    {
      "cell_type": "markdown",
      "source": [
        "## Leaky ReLU"
      ],
      "metadata": {
        "id": "oNnqOFHz6ttE"
      }
    },
    {
      "cell_type": "code",
      "source": [
        "x = np.arange(-10, 10, 0.1)\n",
        "y = tf.keras.activations.leaky_relu(x).numpy()\n",
        "\n",
        "plt.plot(x, y)\n",
        "plt.grid(True)\n",
        "plt.xlim(-10, 10)\n",
        "plt.ylim(-10, 10)\n",
        "plt.show()"
      ],
      "metadata": {
        "id": "oKkcqoqg9NPm"
      },
      "execution_count": null,
      "outputs": []
    },
    {
      "cell_type": "markdown",
      "source": [
        "## SELU"
      ],
      "metadata": {
        "id": "fKnpTRLe64cK"
      }
    },
    {
      "cell_type": "code",
      "source": [
        "x = np.arange(-10, 10, 0.1)\n",
        "y = tf.keras.activations.selu(x).numpy()\n",
        "\n",
        "plt.plot(x, y)\n",
        "plt.grid(True)\n",
        "plt.xlim(-10, 10)\n",
        "plt.ylim(-10, 10)\n",
        "plt.show()"
      ],
      "metadata": {
        "id": "ZGitENkg9W2-"
      },
      "execution_count": null,
      "outputs": []
    },
    {
      "cell_type": "markdown",
      "source": [
        "## ELU"
      ],
      "metadata": {
        "id": "PtyFtJb566d4"
      }
    },
    {
      "cell_type": "code",
      "source": [
        "x = np.arange(-10, 10, 0.1)\n",
        "y = tf.keras.activations.elu(x).numpy()\n",
        "plt.plot(x, y)\n",
        "plt.grid(True)\n",
        "plt.xlim(-10, 10)\n",
        "plt.ylim(-10, 10)\n",
        "plt.show()"
      ],
      "metadata": {
        "id": "vEiJ0Yes9bQf"
      },
      "execution_count": null,
      "outputs": []
    },
    {
      "cell_type": "markdown",
      "source": [
        "---\n",
        "\n",
        "# 04. Loss functions\n",
        "\n",
        "---"
      ],
      "metadata": {
        "id": "x4mNd67b5QCD"
      }
    },
    {
      "cell_type": "markdown",
      "source": [
        "> https://keras.io/api/losses/"
      ],
      "metadata": {
        "id": "RB_riBzg50TF"
      }
    },
    {
      "cell_type": "markdown",
      "source": [
        "---\n",
        "\n",
        "# 05. Layer types\n",
        "\n",
        "---"
      ],
      "metadata": {
        "id": "iU1HPHGR5Q0-"
      }
    },
    {
      "cell_type": "markdown",
      "source": [
        "> https://keras.io/api/layers/"
      ],
      "metadata": {
        "id": "pCtISihZ58n3"
      }
    }
  ]
}